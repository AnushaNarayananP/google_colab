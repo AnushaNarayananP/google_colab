{
  "nbformat": 4,
  "nbformat_minor": 0,
  "metadata": {
    "colab": {
      "provenance": [],
      "authorship_tag": "ABX9TyNL1w2ko6gsRF/gsz/L3x+8",
      "include_colab_link": true
    },
    "kernelspec": {
      "name": "python3",
      "display_name": "Python 3"
    },
    "language_info": {
      "name": "python"
    }
  },
  "cells": [
    {
      "cell_type": "markdown",
      "metadata": {
        "id": "view-in-github",
        "colab_type": "text"
      },
      "source": [
        "<a href=\"https://colab.research.google.com/github/AnushaNarayananP/google_colab/blob/main/Quantile.ipynb\" target=\"_parent\"><img src=\"https://colab.research.google.com/assets/colab-badge.svg\" alt=\"Open In Colab\"/></a>"
      ]
    },
    {
      "cell_type": "markdown",
      "source": [
        "Quantile of the List Object"
      ],
      "metadata": {
        "id": "95pBjRbMCapD"
      }
    },
    {
      "cell_type": "code",
      "execution_count": 1,
      "metadata": {
        "colab": {
          "base_uri": "https://localhost:8080/"
        },
        "id": "ScilG7rWCUpw",
        "outputId": "73c1c823-f7ab-48b1-82a9-3a01fa9dab81"
      },
      "outputs": [
        {
          "output_type": "stream",
          "name": "stdout",
          "text": [
            "[8, 4, 4, 3, 2, 4, 1, 3, 5, 2, 1, 3, 7]\n"
          ]
        }
      ],
      "source": [
        "my_list=[8,4,4,3,2,4,1,3,5,2,1,3,7]\n",
        "print(my_list)"
      ]
    },
    {
      "cell_type": "code",
      "source": [
        "import numpy as np"
      ],
      "metadata": {
        "id": "6s-2wmofC_Pb"
      },
      "execution_count": 2,
      "outputs": []
    },
    {
      "cell_type": "code",
      "source": [
        "print(np.quantile(my_list,q=np.arange(0.25,1,0.25)))"
      ],
      "metadata": {
        "colab": {
          "base_uri": "https://localhost:8080/"
        },
        "id": "aXronz1fDFbO",
        "outputId": "0f366223-c849-414a-e55c-a5415582e5ed"
      },
      "execution_count": 5,
      "outputs": [
        {
          "output_type": "stream",
          "name": "stdout",
          "text": [
            "[2. 3. 4.]\n"
          ]
        }
      ]
    },
    {
      "cell_type": "code",
      "source": [
        "print(np.quantile(my_list,q=np.arange(0.1,1,0.1)))"
      ],
      "metadata": {
        "colab": {
          "base_uri": "https://localhost:8080/"
        },
        "id": "nUHWXuxGDfwF",
        "outputId": "e26774ae-14df-45ba-ed05-4dab12ebf4a0"
      },
      "execution_count": 6,
      "outputs": [
        {
          "output_type": "stream",
          "name": "stdout",
          "text": [
            "[1.2 2.  2.6 3.  3.  4.  4.  4.6 6.6]\n"
          ]
        }
      ]
    },
    {
      "cell_type": "code",
      "source": [
        "print(np.quantile(my_list,q=np.arange(0.01,1,0.01)))"
      ],
      "metadata": {
        "colab": {
          "base_uri": "https://localhost:8080/"
        },
        "id": "Aa2xTpciDqeg",
        "outputId": "d07a0cd7-94ea-47f5-9378-a00f129b2aa3"
      },
      "execution_count": 7,
      "outputs": [
        {
          "output_type": "stream",
          "name": "stdout",
          "text": [
            "[1.   1.   1.   1.   1.   1.   1.   1.   1.08 1.2  1.32 1.44 1.56 1.68\n",
            " 1.8  1.92 2.   2.   2.   2.   2.   2.   2.   2.   2.   2.12 2.24 2.36\n",
            " 2.48 2.6  2.72 2.84 2.96 3.   3.   3.   3.   3.   3.   3.   3.   3.\n",
            " 3.   3.   3.   3.   3.   3.   3.   3.   3.12 3.24 3.36 3.48 3.6  3.72\n",
            " 3.84 3.96 4.   4.   4.   4.   4.   4.   4.   4.   4.   4.   4.   4.\n",
            " 4.   4.   4.   4.   4.   4.12 4.24 4.36 4.48 4.6  4.72 4.84 4.96 5.16\n",
            " 5.4  5.64 5.88 6.12 6.36 6.6  6.84 7.04 7.16 7.28 7.4  7.52 7.64 7.76\n",
            " 7.88]\n"
          ]
        }
      ]
    },
    {
      "cell_type": "code",
      "source": [
        "import pandas as pd"
      ],
      "metadata": {
        "id": "JSYHrKo5DzoD"
      },
      "execution_count": 8,
      "outputs": []
    },
    {
      "cell_type": "code",
      "source": [
        "data = pd.DataFrame({'x1':[6,2,7,3,1,4,3,4,8,7,5],'x2':range(10,21),'group':['A','B','B','C','A','B','A','C','B','B','A']})\n",
        "print(data)"
      ],
      "metadata": {
        "colab": {
          "base_uri": "https://localhost:8080/"
        },
        "id": "6Zr4NnZjEAly",
        "outputId": "5689d59b-5baa-4d06-90ee-106520d2d014"
      },
      "execution_count": 9,
      "outputs": [
        {
          "output_type": "stream",
          "name": "stdout",
          "text": [
            "    x1  x2 group\n",
            "0    6  10     A\n",
            "1    2  11     B\n",
            "2    7  12     B\n",
            "3    3  13     C\n",
            "4    1  14     A\n",
            "5    4  15     B\n",
            "6    3  16     A\n",
            "7    4  17     C\n",
            "8    8  18     B\n",
            "9    7  19     B\n",
            "10   5  20     A\n"
          ]
        }
      ]
    },
    {
      "cell_type": "code",
      "source": [
        "print(data['x1'].quantile(np.arange(0.25,1,0.25)))"
      ],
      "metadata": {
        "colab": {
          "base_uri": "https://localhost:8080/"
        },
        "id": "c2-xg9_dF0-4",
        "outputId": "73df2001-7c07-4d89-9bbb-3e3fcda0fcb5"
      },
      "execution_count": 10,
      "outputs": [
        {
          "output_type": "stream",
          "name": "stdout",
          "text": [
            "0.25    3.0\n",
            "0.50    4.0\n",
            "0.75    6.5\n",
            "Name: x1, dtype: float64\n"
          ]
        }
      ]
    },
    {
      "cell_type": "code",
      "source": [
        "print(data['x1'].quantile(np.arange(0.1,1,0.1)))"
      ],
      "metadata": {
        "colab": {
          "base_uri": "https://localhost:8080/"
        },
        "id": "79Vg1gmnGTJB",
        "outputId": "81661f82-7456-469e-b630-be290f3a8bbd"
      },
      "execution_count": 11,
      "outputs": [
        {
          "output_type": "stream",
          "name": "stdout",
          "text": [
            "0.1    2.0\n",
            "0.2    3.0\n",
            "0.3    3.0\n",
            "0.4    4.0\n",
            "0.5    4.0\n",
            "0.6    5.0\n",
            "0.7    6.0\n",
            "0.8    7.0\n",
            "0.9    7.0\n",
            "Name: x1, dtype: float64\n"
          ]
        }
      ]
    },
    {
      "cell_type": "code",
      "source": [
        "print(data['x1'].quantile(np.arange(0.01,1,0.01)))"
      ],
      "metadata": {
        "colab": {
          "base_uri": "https://localhost:8080/"
        },
        "id": "nLBEz2eLGfZ4",
        "outputId": "1684e2e4-cf16-4950-8301-a4c33df315ff"
      },
      "execution_count": 12,
      "outputs": [
        {
          "output_type": "stream",
          "name": "stdout",
          "text": [
            "0.01    1.1\n",
            "0.02    1.2\n",
            "0.03    1.3\n",
            "0.04    1.4\n",
            "0.05    1.5\n",
            "       ... \n",
            "0.95    7.5\n",
            "0.96    7.6\n",
            "0.97    7.7\n",
            "0.98    7.8\n",
            "0.99    7.9\n",
            "Name: x1, Length: 99, dtype: float64\n"
          ]
        }
      ]
    },
    {
      "cell_type": "code",
      "source": [
        "print(data.quantile(np.arange(0.25,1,0.25),numeric_only = True))"
      ],
      "metadata": {
        "colab": {
          "base_uri": "https://localhost:8080/"
        },
        "id": "6gMCKrMPG4rd",
        "outputId": "1d6584cd-83ae-40d3-d50d-be8b32bb17f1"
      },
      "execution_count": 13,
      "outputs": [
        {
          "output_type": "stream",
          "name": "stdout",
          "text": [
            "       x1    x2\n",
            "0.25  3.0  12.5\n",
            "0.50  4.0  15.0\n",
            "0.75  6.5  17.5\n"
          ]
        }
      ]
    },
    {
      "cell_type": "code",
      "source": [
        "print(data.groupby('group').quantile(0.25))"
      ],
      "metadata": {
        "colab": {
          "base_uri": "https://localhost:8080/"
        },
        "id": "aCuxKf4vIzSF",
        "outputId": "90acd000-f0d0-4a7c-bf82-3fdbf9e1fb07"
      },
      "execution_count": 14,
      "outputs": [
        {
          "output_type": "stream",
          "name": "stdout",
          "text": [
            "         x1    x2\n",
            "group            \n",
            "A      2.50  13.0\n",
            "B      4.00  12.0\n",
            "C      3.25  14.0\n"
          ]
        }
      ]
    },
    {
      "cell_type": "code",
      "source": [],
      "metadata": {
        "id": "ve4Gax53JMec"
      },
      "execution_count": null,
      "outputs": []
    }
  ]
}